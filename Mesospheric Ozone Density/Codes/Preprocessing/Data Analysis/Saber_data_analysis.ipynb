{
 "cells": [
  {
   "cell_type": "code",
   "execution_count": 1,
   "metadata": {},
   "outputs": [],
   "source": [
    "from netCDF4 import Dataset\n",
    "import numpy as np"
   ]
  },
  {
   "cell_type": "code",
   "execution_count": 2,
   "metadata": {},
   "outputs": [],
   "source": [
    "file=\"C:\\\\Users\\\\Acer\\\\PycharmProjects\\\\BTech_Project\\\\data\\\\1\\\\SABER_L2A_2004305_15684_02.0.nc\""
   ]
  },
  {
   "cell_type": "code",
   "execution_count": 3,
   "metadata": {},
   "outputs": [],
   "source": [
    "fh=Dataset(file,mode='r')"
   ]
  },
  {
   "cell_type": "code",
   "execution_count": 4,
   "metadata": {
    "scrolled": true
   },
   "outputs": [
    {
     "data": {
      "text/plain": [
       "['Title',\n",
       " 'Data_Product_Type',\n",
       " 'Mission',\n",
       " 'Source',\n",
       " 'Software_Name',\n",
       " 'Software_Version',\n",
       " 'Calibration_Version',\n",
       " 'Product_Format_Version',\n",
       " 'Filename',\n",
       " 'Data_Product_Version',\n",
       " 'Date_Generated',\n",
       " 'Data_Start_Time',\n",
       " 'Data_End_Time',\n",
       " 'History',\n",
       " 'Orbitnumber',\n",
       " 'Validation_Stamp']"
      ]
     },
     "execution_count": 4,
     "metadata": {},
     "output_type": "execute_result"
    }
   ],
   "source": [
    "fh.ncattrs()"
   ]
  },
  {
   "cell_type": "code",
   "execution_count": 5,
   "metadata": {},
   "outputs": [
    {
     "data": {
      "text/plain": [
       "'SABER_L2A_2004305_15684_02.0.nc'"
      ]
     },
     "execution_count": 5,
     "metadata": {},
     "output_type": "execute_result"
    }
   ],
   "source": [
    "fh.Filename"
   ]
  },
  {
   "cell_type": "code",
   "execution_count": 6,
   "metadata": {},
   "outputs": [
    {
     "name": "stdout",
     "output_type": "stream",
     "text": [
      "event\n",
      "date\n",
      "mode\n",
      "tpDN\n",
      "tpAD\n",
      "moonSepAngle\n",
      "tpaltmoonSepAngle\n",
      "solAP\n",
      "solKP\n",
      "solf10p7Daily\n",
      "solF10p781dAvg\n",
      "solSpotNo\n",
      "scSolarZen\n",
      "earth_sun\n",
      "L1_altoff\n",
      "Iaurora\n",
      "time\n",
      "sclatitude\n",
      "sclongitude\n",
      "scaltitude\n",
      "tpaltitude\n",
      "tplatitude\n",
      "tplongitude\n",
      "tpSolarZen\n",
      "tpSolarLT\n",
      "elevation\n",
      "time_top\n",
      "sclatitude_top\n",
      "sclongitude_top\n",
      "scaltitude_top\n",
      "tpaltitude_top\n",
      "tplatitude_top\n",
      "tplongitude_top\n",
      "tpSolarZen_top\n",
      "tpSolarLT_top\n",
      "elevation_top\n",
      "tpgpaltitude\n",
      "pressure\n",
      "ktemp\n",
      "density\n",
      "O3_96\n",
      "O3_127\n",
      "H2O\n",
      "CO2\n",
      "O\n",
      "H\n",
      "O2_1delta_ver\n",
      "OH_16_ver\n",
      "OH_20_ver\n",
      "NO_ver\n",
      "NO_ver_top\n",
      "O2_1delta_ver_unfilt\n",
      "OH_16_ver_unfilt\n",
      "OH_20_ver_unfilt\n",
      "NO_ver_unfilt\n",
      "NO_ver_top_unfilt\n"
     ]
    }
   ],
   "source": [
    "for i in fh.variables:\n",
    "    print(i)"
   ]
  },
  {
   "cell_type": "code",
   "execution_count": 56,
   "metadata": {},
   "outputs": [
    {
     "name": "stdout",
     "output_type": "stream",
     "text": [
      "[ 1  2  3  4  5  6  7  8  9 10 11 12 13 14 15 16 17 18 19 20 21 22 23 24\n",
      " 25 26 27 28 29 30 31 32 33 34 35 36 37 38 39 40 41 42 43 44 45 46 47 48\n",
      " 49 50 51 52 53 54 55 56 57 58 59 60 61 62 63 64 65 66 67 68 69 70 71 72\n",
      " 73 74 75 76 77 78 79 80 81 82 83 84 85 86 87 88 89 90 91 92 93 94 95 96]\n"
     ]
    }
   ],
   "source": [
    "print(fh.variables['event'][:])"
   ]
  },
  {
   "cell_type": "code",
   "execution_count": 50,
   "metadata": {},
   "outputs": [
    {
     "name": "stdout",
     "output_type": "stream",
     "text": [
      "event = (96,)\n",
      "date = (96,)\n",
      "mode = (96,)\n",
      "tpDN = (96,)\n",
      "tpAD = (96,)\n",
      "moonSepAngle = (96,)\n",
      "tpaltmoonSepAngle = (96,)\n",
      "solAP = (96,)\n",
      "solKP = (96,)\n",
      "solf10p7Daily = (96,)\n",
      "solF10p781dAvg = (96,)\n",
      "solSpotNo = (96,)\n",
      "scSolarZen = (96,)\n",
      "earth_sun = (96,)\n",
      "L1_altoff = (96,)\n",
      "Iaurora = (96,)\n",
      "time = (96, 400)\n",
      "sclatitude = (96, 400)\n",
      "sclongitude = (96, 400)\n",
      "scaltitude = (96, 400)\n",
      "tpaltitude = (96, 400)\n",
      "tplatitude = (96, 400)\n",
      "tplongitude = (96, 400)\n",
      "tpSolarZen = (96, 400)\n",
      "tpSolarLT = (96, 400)\n",
      "elevation = (96, 400)\n",
      "time_top = (96, 400)\n",
      "sclatitude_top = (96, 400)\n",
      "sclongitude_top = (96, 400)\n",
      "scaltitude_top = (96, 400)\n",
      "tpaltitude_top = (96, 400)\n",
      "tplatitude_top = (96, 400)\n",
      "tplongitude_top = (96, 400)\n",
      "tpSolarZen_top = (96, 400)\n",
      "tpSolarLT_top = (96, 400)\n",
      "elevation_top = (96, 400)\n",
      "tpgpaltitude = (96, 400)\n",
      "pressure = (96, 400)\n",
      "ktemp = (96, 400)\n",
      "density = (96, 400)\n",
      "O3_96 = (96, 400)\n",
      "O3_127 = (96, 400)\n",
      "H2O = (96, 400)\n",
      "CO2 = (96, 400)\n",
      "O = (96, 400)\n",
      "H = (96, 400)\n",
      "O2_1delta_ver = (96, 400)\n",
      "OH_16_ver = (96, 400)\n",
      "OH_20_ver = (96, 400)\n",
      "NO_ver = (96, 400)\n",
      "NO_ver_top = (96, 400)\n",
      "O2_1delta_ver_unfilt = (96, 400)\n",
      "OH_16_ver_unfilt = (96, 400)\n",
      "OH_20_ver_unfilt = (96, 400)\n",
      "NO_ver_unfilt = (96, 400)\n",
      "NO_ver_top_unfilt = (96, 400)\n"
     ]
    }
   ],
   "source": [
    "for i in fh.variables:\n",
    "    print(f\"{i} = {fh.variables[i].shape}\")"
   ]
  }
 ],
 "metadata": {
  "kernelspec": {
   "display_name": "Python 3",
   "language": "python",
   "name": "python3"
  },
  "language_info": {
   "codemirror_mode": {
    "name": "ipython",
    "version": 3
   },
   "file_extension": ".py",
   "mimetype": "text/x-python",
   "name": "python",
   "nbconvert_exporter": "python",
   "pygments_lexer": "ipython3",
   "version": "3.7.4"
  }
 },
 "nbformat": 4,
 "nbformat_minor": 2
}
