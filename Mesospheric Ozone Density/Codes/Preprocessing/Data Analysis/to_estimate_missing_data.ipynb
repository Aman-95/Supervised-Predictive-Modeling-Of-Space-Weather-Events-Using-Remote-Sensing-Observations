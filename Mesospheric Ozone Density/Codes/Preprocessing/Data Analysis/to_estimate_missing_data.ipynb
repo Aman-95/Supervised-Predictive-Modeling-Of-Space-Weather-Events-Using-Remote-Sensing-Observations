{
 "cells": [
  {
   "cell_type": "code",
   "execution_count": 1,
   "metadata": {},
   "outputs": [],
   "source": [
    "import numpy as np\n",
    "import pandas as pd"
   ]
  },
  {
   "cell_type": "code",
   "execution_count": 3,
   "metadata": {},
   "outputs": [],
   "source": [
    "f=pd.read_csv(\"C:\\\\Users\\\\Acer\\\\PycharmProjects\\\\BTech_Project\\\\Toy Dataset\\\\toy_dataset_with_dst_ae_symh.csv\")\n",
    "df=pd.DataFrame(f)"
   ]
  },
  {
   "cell_type": "code",
   "execution_count": 7,
   "metadata": {},
   "outputs": [],
   "source": [
    "D={}\n",
    "for col in df.columns:\n",
    "    D[col]=0\n",
    "for i in range(len(df[\"event\"])):\n",
    "    for col in df.columns:\n",
    "        if df[col][i]==\"--\":\n",
    "            D[col]=D[col]+1"
   ]
  },
  {
   "cell_type": "code",
   "execution_count": 8,
   "metadata": {},
   "outputs": [
    {
     "data": {
      "text/plain": [
       "{'event': 0,\n",
       " 'solAp': 0,\n",
       " 'solKp': 0,\n",
       " 'solf10p7Daily': 0,\n",
       " 'time': 0,\n",
       " 'tpaltitude': 13388,\n",
       " 'tplatitude': 13388,\n",
       " 'tplongitude': 13388,\n",
       " 'tpSolarZen': 13388,\n",
       " 'ktemp': 86128,\n",
       " 'density': 86128,\n",
       " 'O3_96': 86128,\n",
       " 'O3_127': 199092,\n",
       " 'dst_index': 0,\n",
       " 'ae_index': 0,\n",
       " 'sym_h': 0}"
      ]
     },
     "execution_count": 8,
     "metadata": {},
     "output_type": "execute_result"
    }
   ],
   "source": [
    "D"
   ]
  },
  {
   "cell_type": "code",
   "execution_count": 12,
   "metadata": {},
   "outputs": [
    {
     "name": "stdout",
     "output_type": "stream",
     "text": [
      "event     0.00 %\n",
      "solAp     0.00 %\n",
      "solKp     0.00 %\n",
      "solf10p7Daily     0.00 %\n",
      "time     0.00 %\n",
      "tpaltitude     5.81 %\n",
      "tplatitude     5.81 %\n",
      "tplongitude     5.81 %\n",
      "tpSolarZen     5.81 %\n",
      "ktemp     37.37 %\n",
      "density     37.37 %\n",
      "O3_96     37.37 %\n",
      "O3_127     86.39 %\n",
      "dst_index     0.00 %\n",
      "ae_index     0.00 %\n",
      "sym_h     0.00 %\n"
     ]
    }
   ],
   "source": [
    "for col in df.columns:\n",
    "    print(col,\"   \",'%.2f'%(100*(D[col]/len(df[\"event\"]))),\"%\")"
   ]
  }
 ],
 "metadata": {
  "kernelspec": {
   "display_name": "Python 3",
   "language": "python",
   "name": "python3"
  },
  "language_info": {
   "codemirror_mode": {
    "name": "ipython",
    "version": 3
   },
   "file_extension": ".py",
   "mimetype": "text/x-python",
   "name": "python",
   "nbconvert_exporter": "python",
   "pygments_lexer": "ipython3",
   "version": "3.7.4"
  }
 },
 "nbformat": 4,
 "nbformat_minor": 2
}
