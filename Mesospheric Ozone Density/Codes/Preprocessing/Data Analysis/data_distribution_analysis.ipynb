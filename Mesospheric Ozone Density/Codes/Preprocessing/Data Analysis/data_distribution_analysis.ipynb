{
 "cells": [
  {
   "cell_type": "code",
   "execution_count": 15,
   "metadata": {},
   "outputs": [],
   "source": [
    "import pandas as pd\n",
    "import numpy as np\n",
    "import matplotlib.pyplot as plt "
   ]
  },
  {
   "cell_type": "code",
   "execution_count": 2,
   "metadata": {},
   "outputs": [],
   "source": [
    "f=pd.read_csv(\"C:\\\\Users\\\\Acer\\\\PycharmProjects\\\\BTech_Project\\\\data_csv\\\\3 data set containing all points\\\\7 Combined files\\\\combined_dataset.csv\")\n",
    "df=pd.DataFrame(f)"
   ]
  },
  {
   "cell_type": "code",
   "execution_count": 39,
   "metadata": {},
   "outputs": [],
   "source": [
    "L=np.zeros((2,21),dtype=int)\n",
    "o3den=df[\"O3_density\"]\n",
    "colden=df[\"col_den\"]"
   ]
  },
  {
   "cell_type": "code",
   "execution_count": null,
   "metadata": {
    "scrolled": false
   },
   "outputs": [],
   "source": [
    "length=len(o3den)\n",
    "for i in range(int(length/2)):\n",
    "    x=o3den[i]\n",
    "    y=colden[i]\n",
    "    print(f\"{i}/{int(length/2)}\")\n",
    "    j0=0\n",
    "    j1=0\n",
    "    while x>=1:\n",
    "        x=x/10\n",
    "        j0+=1\n",
    "    while y>=1:\n",
    "        y=y/10\n",
    "        j1+=1\n",
    "    L[0][j0]+=1\n",
    "    L[1][j1]+=1"
   ]
  },
  {
   "cell_type": "code",
   "execution_count": null,
   "metadata": {
    "scrolled": true
   },
   "outputs": [],
   "source": [
    "for i in range(int(length/2)):\n",
    "    x=o3den[(length/2)+i]\n",
    "    y=colden[(length/2)+i]\n",
    "    print(f\"{i}/{int(length/2)}\")\n",
    "    j0=0\n",
    "    j1=0\n",
    "    while x>=1:\n",
    "        x=x/10\n",
    "        j0+=1\n",
    "    while y>=1:\n",
    "        y=y/10\n",
    "        j1+=1\n",
    "    L[0][j0]+=1\n",
    "    L[1][j1]+=1"
   ]
  },
  {
   "cell_type": "code",
   "execution_count": 52,
   "metadata": {
    "scrolled": true
   },
   "outputs": [
    {
     "name": "stdout",
     "output_type": "stream",
     "text": [
      "[   1570       0       0       0      94   28770  181197  502873  835874\n",
      " 1333899  133231       0       0       0       0       0       0       0\n",
      "       0       0       0]\n",
      "[   1569       0       0       0       0       0       0       1       0\n",
      "    4474 1539915 1471549       0       0       0       0       0       0\n",
      "       0       0       0]\n",
      "3017508\n",
      "3017508\n"
     ]
    }
   ],
   "source": [
    "print(L[0])\n",
    "print(L[1])\n",
    "print(sum(L[0]))\n",
    "print(sum(L[1]))"
   ]
  },
  {
   "cell_type": "code",
   "execution_count": 44,
   "metadata": {
    "scrolled": true
   },
   "outputs": [
    {
     "name": "stdout",
     "output_type": "stream",
     "text": [
      "for O3 density\n",
      "0   0.05%\n",
      "1   0.0%\n",
      "2   0.0%\n",
      "3   0.0%\n",
      "4   0.0%\n",
      "5   0.95%\n",
      "6   6.0%\n",
      "7   16.67%\n",
      "8   27.7%\n",
      "9   44.21%\n",
      "10   4.42%\n",
      "11   0.0%\n",
      "12   0.0%\n",
      "13   0.0%\n",
      "14   0.0%\n",
      "15   0.0%\n",
      "16   0.0%\n",
      "17   0.0%\n",
      "18   0.0%\n",
      "19   0.0%\n",
      "20   0.0%\n",
      "\n",
      "\n",
      "for column density\n",
      "0    0.05%\n",
      "1    0.0%\n",
      "2    0.0%\n",
      "3    0.0%\n",
      "4    0.0%\n",
      "5    0.0%\n",
      "6    0.0%\n",
      "7    0.0%\n",
      "8    0.0%\n",
      "9    0.15%\n",
      "10    51.03%\n",
      "11    48.77%\n",
      "12    0.0%\n",
      "13    0.0%\n",
      "14    0.0%\n",
      "15    0.0%\n",
      "16    0.0%\n",
      "17    0.0%\n",
      "18    0.0%\n",
      "19    0.0%\n",
      "20    0.0%\n"
     ]
    }
   ],
   "source": [
    "print(\"for O3 density\")\n",
    "for i in range(21):\n",
    "    print(f\"{i}   {round(100*L[0][i]/sum(L[0]),2)}%\")\n",
    "print(\"\\n\\nfor column density\")\n",
    "for i in range(21):\n",
    "    print(f\"{i}    {round(100*L[1][i]/sum(L[1]),2)}%\")"
   ]
  },
  {
   "cell_type": "code",
   "execution_count": 58,
   "metadata": {},
   "outputs": [
    {
     "data": {
      "text/plain": [
       "Text(0.5, 0, 'O3_density range (in power of 10)')"
      ]
     },
     "execution_count": 58,
     "metadata": {},
     "output_type": "execute_result"
    },
    {
     "data": {
      "image/png": "[encoded data removed]",
      "text/plain": [
       "<Figure size 432x288 with 1 Axes>"
      ]
     },
     "metadata": {
      "needs_background": "light"
     },
     "output_type": "display_data"
    }
   ],
   "source": [
    "plt.plot(100*L[0]/sum(L[0]))\n",
    "plt.scatter(range(21),100*L[0]/sum(L[0]))\n",
    "plt.title(\"O3 density distribution\")\n",
    "plt.ylabel(\"No. of data points in %\")\n",
    "plt.xlabel(\"O3_density range (in power of 10)\")"
   ]
  },
  {
   "cell_type": "code",
   "execution_count": 59,
   "metadata": {},
   "outputs": [
    {
     "data": {
      "text/plain": [
       "Text(0.5, 0, 'column density range (in power of 10)')"
      ]
     },
     "execution_count": 59,
     "metadata": {},
     "output_type": "execute_result"
    },
    {
     "data": {
      "image/png": "[encoded data removed]",
      "text/plain": [
       "<Figure size 432x288 with 1 Axes>"
      ]
     },
     "metadata": {
      "needs_background": "light"
     },
     "output_type": "display_data"
    }
   ],
   "source": [
    "plt.plot(100*L[1]/sum(L[1]))\n",
    "plt.scatter(range(21),100*L[1]/sum(L[1]))\n",
    "plt.title(\"column density distribution\")\n",
    "plt.ylabel(\"No. of data points in %\")\n",
    "plt.xlabel(\"column density range (in power of 10)\")"
   ]
  }
 ],
 "metadata": {
  "kernelspec": {
   "display_name": "Python 3",
   "language": "python",
   "name": "python3"
  },
  "language_info": {
   "codemirror_mode": {
    "name": "ipython",
    "version": 3
   },
   "file_extension": ".py",
   "mimetype": "text/x-python",
   "name": "python",
   "nbconvert_exporter": "python",
   "pygments_lexer": "ipython3",
   "version": "3.7.4"
  }
 },
 "nbformat": 4,
 "nbformat_minor": 2
}
