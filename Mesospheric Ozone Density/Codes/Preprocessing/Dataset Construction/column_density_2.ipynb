{
 "cells": [
  {
   "cell_type": "code",
   "execution_count": 1,
   "metadata": {},
   "outputs": [],
   "source": [
    "import numpy as np\n",
    "import pandas as pd"
   ]
  },
  {
   "cell_type": "code",
   "execution_count": 2,
   "metadata": {},
   "outputs": [],
   "source": [
    "dates=['01','02','03','04','05','06','07','08','09','10'] \n",
    "for i in range(11,31):\n",
    "    dates.append(f\"{i}\")"
   ]
  },
  {
   "cell_type": "code",
   "execution_count": 3,
   "metadata": {},
   "outputs": [],
   "source": [
    "cols=[\"Date\",\"event\",\"solAp\",\"solKp\",\"solf10p7Daily\",\"time\",\"tpaltitude\",\"tplatitude\",\"tplongitude\",\"tpSolarZen\",\"ktemp\",\"density\",\"O3_96\",\"ae_index\",\"dst_index\",\"sym_h\",\"O3_density\"]"
   ]
  },
  {
   "cell_type": "code",
   "execution_count": 6,
   "metadata": {
    "scrolled": true
   },
   "outputs": [
    {
     "name": "stdout",
     "output_type": "stream",
     "text": [
      "file 01 done.\n",
      "file 02 done.\n",
      "file 03 done.\n",
      "file 04 done.\n",
      "file 05 done.\n",
      "file 06 done.\n",
      "file 07 done.\n",
      "file 08 done.\n",
      "file 09 done.\n",
      "file 10 done.\n",
      "file 11 done.\n",
      "file 12 done.\n",
      "file 13 done.\n",
      "file 14 done.\n",
      "file 15 done.\n",
      "file 16 done.\n",
      "file 17 done.\n",
      "file 18 done.\n",
      "file 19 done.\n",
      "file 20 done.\n",
      "file 21 done.\n",
      "file 22 done.\n",
      "file 23 done.\n",
      "file 24 done.\n",
      "file 25 done.\n",
      "file 26 done.\n",
      "file 27 done.\n",
      "file 28 done.\n",
      "file 29 done.\n",
      "file 30 done.\n"
     ]
    }
   ],
   "source": [
    "for date in dates:\n",
    "    f=pd.read_csv(f\"C:\\\\Users\\\\Acer\\\\PycharmProjects\\\\BTech_Project\\\\data_csv\\\\data set containing all points\\\\5 With O3 density\\\\{date}.csv\")\n",
    "    f_new=pd.read_csv(\"C:\\\\Users\\\\Acer\\\\PycharmProjects\\\\BTech_Project\\\\data_csv\\\\data set containing all points\\\\empty.csv\")\n",
    "    df=pd.DataFrame(f)\n",
    "    df_new=pd.DataFrame(f_new)\n",
    "    L=[]\n",
    "    i=0\n",
    "    while i<len(df[\"event\"]):\n",
    "        l=[]\n",
    "        j=i\n",
    "        l.append(j)\n",
    "        while j<len(df[\"event\"])-1 and float(df[\"tpaltitude\"][j]) > float(df[\"tpaltitude\"][j+1]):\n",
    "            j=j+1\n",
    "            l.append(j)\n",
    "        if len(l)>1:\n",
    "            L.append(l)\n",
    "        if i==j:\n",
    "            i=i+1\n",
    "        else:\n",
    "            i=j\n",
    "    #print(\"done step 1\")\n",
    "    \n",
    "    length=len(L)\n",
    "    colden=[]\n",
    "    for l in range(len(L)):\n",
    "        #print(f\"{l}/{length}\")\n",
    "        D=[]\n",
    "        X=[]\n",
    "        Y=[]\n",
    "        for col in cols:\n",
    "            d=[]\n",
    "            for i in L[l]:\n",
    "                d.append(float(df[col][i]))\n",
    "            D.append(d)\n",
    "            if col==\"O3_density\":\n",
    "                Y=d\n",
    "            elif col==\"tplatitude\":\n",
    "                X=d\n",
    "        row=[]\n",
    "        for i in range(len(D)):\n",
    "            if len(D[i])!=0:\n",
    "                row.append(sum(D[i])/len(D[i]))\n",
    "        colden.append(-1.0*np.trapz(Y,x=X))\n",
    "        dt=pd.Series(data=row)\n",
    "        df_new=df_new.append(dt,ignore_index=True)\n",
    "    df_new[\"col_den\"]=colden\n",
    "    #print(\"done step 2\")\n",
    "    df_new.to_csv(f\"C:\\\\Users\\\\Acer\\\\PycharmProjects\\\\BTech_Project\\\\data_csv\\\\data set containing all points\\\\6.2 After Integration and averaging\\\\{date}.csv\")\n",
    "    print(f\"file {date} done.\")"
   ]
  },
  {
   "cell_type": "code",
   "execution_count": 10,
   "metadata": {},
   "outputs": [],
   "source": [
    "df_new.to_csv(f\"C:\\\\Users\\\\Acer\\\\PycharmProjects\\\\BTech_Project\\\\data_csv\\\\data set containing all points\\\\6 After integration\\\\{1}.csv\")"
   ]
  }
 ],
 "metadata": {
  "kernelspec": {
   "display_name": "Python 3",
   "language": "python",
   "name": "python3"
  },
  "language_info": {
   "codemirror_mode": {
    "name": "ipython",
    "version": 3
   },
   "file_extension": ".py",
   "mimetype": "text/x-python",
   "name": "python",
   "nbconvert_exporter": "python",
   "pygments_lexer": "ipython3",
   "version": "3.7.4"
  }
 },
 "nbformat": 4,
 "nbformat_minor": 2
}
