{
 "cells": [
  {
   "cell_type": "code",
   "execution_count": 1,
   "metadata": {},
   "outputs": [],
   "source": [
    "import pandas as pd"
   ]
  },
  {
   "cell_type": "code",
   "execution_count": 2,
   "metadata": {},
   "outputs": [],
   "source": [
    "dates1=[]\n",
    "for i in range(1,10,1):\n",
    "    dates1.append(f\"0{i}\")\n",
    "dates1.append(\"10\")\n",
    "\n",
    "dates2=[]\n",
    "for i in range(11,21,1):\n",
    "    dates2.append(f\"{i}\")\n",
    "    \n",
    "dates3=[]\n",
    "for i in range(21,31,1):\n",
    "    dates3.append(f\"{i}\")"
   ]
  },
  {
   "cell_type": "code",
   "execution_count": 3,
   "metadata": {},
   "outputs": [],
   "source": [
    "L1=[]\n",
    "L2=[]\n",
    "L3=[]\n",
    "for date in dates1:\n",
    "    f=pd.read_csv(f\"C:\\\\Users\\\\Acer\\\\PycharmProjects\\\\BTech_Project\\\\data_csv\\\\data set containing all points\\\\6.2 After Integration and averaging\\\\{date}.csv\")\n",
    "    df=pd.DataFrame(f)\n",
    "    L1.append(df)\n",
    "for date in dates2:\n",
    "    f=pd.read_csv(f\"C:\\\\Users\\\\Acer\\\\PycharmProjects\\\\BTech_Project\\\\data_csv\\\\data set containing all points\\\\6.2 After Integration and averaging\\\\{date}.csv\")\n",
    "    df=pd.DataFrame(f)\n",
    "    L2.append(df)\n",
    "for date in dates3:\n",
    "    f=pd.read_csv(f\"C:\\\\Users\\\\Acer\\\\PycharmProjects\\\\BTech_Project\\\\data_csv\\\\data set containing all points\\\\6.2 After Integration and averaging\\\\{date}.csv\")\n",
    "    df=pd.DataFrame(f)\n",
    "    L3.append(df)\n",
    "combined_file_1 = pd.concat(L1, axis=0, ignore_index=True)\n",
    "combined_file_2 = pd.concat(L2, axis=0, ignore_index=True)\n",
    "combined_file_3 = pd.concat(L3, axis=0, ignore_index=True)\n",
    "combined_file_1.to_csv(f\"C:\\\\Users\\\\Acer\\\\PycharmProjects\\\\BTech_Project\\\\data_csv\\\\data set containing all points\\\\7.2 Combined files (Type 2)\\\\combined_dataset_1.csv\")\n",
    "combined_file_2.to_csv(f\"C:\\\\Users\\\\Acer\\\\PycharmProjects\\\\BTech_Project\\\\data_csv\\\\data set containing all points\\\\7.2 Combined files (Type 2)\\\\combined_dataset_2.csv\")\n",
    "combined_file_3.to_csv(f\"C:\\\\Users\\\\Acer\\\\PycharmProjects\\\\BTech_Project\\\\data_csv\\\\data set containing all points\\\\7.2 Combined files (Type 2)\\\\combined_dataset_3.csv\")"
   ]
  },
  {
   "cell_type": "code",
   "execution_count": 4,
   "metadata": {},
   "outputs": [
    {
     "name": "stdout",
     "output_type": "stream",
     "text": [
      "28511\n",
      "28503\n",
      "28472\n",
      "85486\n"
     ]
    }
   ],
   "source": [
    "f1=pd.read_csv(\"C:\\\\Users\\\\Acer\\\\PycharmProjects\\\\BTech_Project\\\\data_csv\\\\data set containing all points\\\\7.2 Combined files (Type 2)\\\\combined_dataset_1.csv\")\n",
    "f2=pd.read_csv(\"C:\\\\Users\\\\Acer\\\\PycharmProjects\\\\BTech_Project\\\\data_csv\\\\data set containing all points\\\\7.2 Combined files (Type 2)\\\\combined_dataset_2.csv\")\n",
    "f3=pd.read_csv(\"C:\\\\Users\\\\Acer\\\\PycharmProjects\\\\BTech_Project\\\\data_csv\\\\data set containing all points\\\\7.2 Combined files (Type 2)\\\\combined_dataset_3.csv\")\n",
    "df1=pd.DataFrame(f1)\n",
    "df2=pd.DataFrame(f2)\n",
    "df3=pd.DataFrame(f3)\n",
    "combined_file = pd.concat([df1,df2,df3], axis=0, ignore_index=True)\n",
    "combined_file.to_csv(f\"C:\\\\Users\\\\Acer\\\\PycharmProjects\\\\BTech_Project\\\\data_csv\\\\data set containing all points\\\\7.2 Combined files (Type 2)\\\\combined_dataset.csv\")\n",
    "\n",
    "\n",
    "print(len(df1[\"event\"]))\n",
    "print(len(df2[\"event\"]))\n",
    "print(len(df3[\"event\"]))\n",
    "print(len(df1[\"event\"])+len(df2[\"event\"])+len(df3[\"event\"]))"
   ]
  }
 ],
 "metadata": {
  "kernelspec": {
   "display_name": "Python 3",
   "language": "python",
   "name": "python3"
  },
  "language_info": {
   "codemirror_mode": {
    "name": "ipython",
    "version": 3
   },
   "file_extension": ".py",
   "mimetype": "text/x-python",
   "name": "python",
   "nbconvert_exporter": "python",
   "pygments_lexer": "ipython3",
   "version": "3.7.4"
  }
 },
 "nbformat": 4,
 "nbformat_minor": 2
}
