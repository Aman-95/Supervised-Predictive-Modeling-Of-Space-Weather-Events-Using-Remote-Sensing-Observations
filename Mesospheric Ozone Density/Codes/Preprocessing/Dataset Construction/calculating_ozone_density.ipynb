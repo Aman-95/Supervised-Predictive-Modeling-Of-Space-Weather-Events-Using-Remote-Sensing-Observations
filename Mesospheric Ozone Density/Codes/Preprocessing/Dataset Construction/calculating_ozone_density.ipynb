{
 "cells": [
  {
   "cell_type": "code",
   "execution_count": 1,
   "metadata": {},
   "outputs": [],
   "source": [
    "import pandas as pd"
   ]
  },
  {
   "cell_type": "code",
   "execution_count": 2,
   "metadata": {},
   "outputs": [],
   "source": [
    "dates=[\"06\",\"07\",\"08\",\"09\",\"10\",\"11\",\"12\"]"
   ]
  },
  {
   "cell_type": "code",
   "execution_count": 5,
   "metadata": {},
   "outputs": [
    {
     "name": "stderr",
     "output_type": "stream",
     "text": [
      "C:\\Users\\Acer\\Anaconda3\\lib\\site-packages\\ipykernel_launcher.py:7: SettingWithCopyWarning: \n",
      "A value is trying to be set on a copy of a slice from a DataFrame\n",
      "\n",
      "See the caveats in the documentation: http://pandas.pydata.org/pandas-docs/stable/user_guide/indexing.html#returning-a-view-versus-a-copy\n",
      "  import sys\n",
      "C:\\Users\\Acer\\Anaconda3\\lib\\site-packages\\ipykernel_launcher.py:8: SettingWithCopyWarning: \n",
      "A value is trying to be set on a copy of a slice from a DataFrame\n",
      "\n",
      "See the caveats in the documentation: http://pandas.pydata.org/pandas-docs/stable/user_guide/indexing.html#returning-a-view-versus-a-copy\n",
      "  \n",
      "C:\\Users\\Acer\\Anaconda3\\lib\\site-packages\\ipykernel_launcher.py:15: SettingWithCopyWarning: \n",
      "A value is trying to be set on a copy of a slice from a DataFrame\n",
      "\n",
      "See the caveats in the documentation: http://pandas.pydata.org/pandas-docs/stable/user_guide/indexing.html#returning-a-view-versus-a-copy\n",
      "  from ipykernel import kernelapp as app\n",
      "C:\\Users\\Acer\\Anaconda3\\lib\\site-packages\\ipykernel_launcher.py:12: SettingWithCopyWarning: \n",
      "A value is trying to be set on a copy of a slice from a DataFrame\n",
      "\n",
      "See the caveats in the documentation: http://pandas.pydata.org/pandas-docs/stable/user_guide/indexing.html#returning-a-view-versus-a-copy\n",
      "  if sys.path[0] == '':\n"
     ]
    },
    {
     "name": "stdout",
     "output_type": "stream",
     "text": [
      "dataset 06 done.\n",
      "dataset 07 done.\n",
      "dataset 08 done.\n",
      "dataset 09 done.\n",
      "dataset 10 done.\n",
      "dataset 11 done.\n",
      "dataset 12 done.\n"
     ]
    }
   ],
   "source": [
    "for date in dates:\n",
    "    f1=pd.read_csv(f\"C:\\\\Users\\\\Acer\\\\PycharmProjects\\\\BTech_Project\\\\Final data\\\\final_with_dst_ae_symh\\\\final_{date}_with_dst_ae_symh.csv\")\n",
    "    df=pd.DataFrame(f1)\n",
    "    \n",
    "    L=[]\n",
    "    for i in range(len(df[\"density\"])):\n",
    "        df[\"density\"][i]=float(df[\"density\"][i])\n",
    "        df[\"O3_96\"][i]=float(df[\"O3_96\"][i])\n",
    "        \n",
    "        o3d=df[\"density\"][i]*df[\"O3_96\"][i]\n",
    "        if df[\"O3_127\"][i]!=\"--\":\n",
    "            df[\"O3_127\"][i]=float(df[\"O3_127\"][i])\n",
    "            o3d=o3d+(df[\"O3_127\"][i]*df[\"density\"][i])\n",
    "        else:\n",
    "            df[\"O3_127\"][i]=0.0\n",
    "        L.append(o3d)\n",
    "    df[\"O3_density\"]=L\n",
    "    df.to_csv(f\"C:\\\\Users\\\\Acer\\\\PycharmProjects\\\\BTech_Project\\\\Final data\\\\data_after_density_calculation_o3_96_and_127\\\\final_dataset_{date}.csv\")\n",
    "    print(f\"dataset {date} done.\")"
   ]
  }
 ],
 "metadata": {
  "kernelspec": {
   "display_name": "Python 3",
   "language": "python",
   "name": "python3"
  },
  "language_info": {
   "codemirror_mode": {
    "name": "ipython",
    "version": 3
   },
   "file_extension": ".py",
   "mimetype": "text/x-python",
   "name": "python",
   "nbconvert_exporter": "python",
   "pygments_lexer": "ipython3",
   "version": "3.7.4"
  }
 },
 "nbformat": 4,
 "nbformat_minor": 2
}
