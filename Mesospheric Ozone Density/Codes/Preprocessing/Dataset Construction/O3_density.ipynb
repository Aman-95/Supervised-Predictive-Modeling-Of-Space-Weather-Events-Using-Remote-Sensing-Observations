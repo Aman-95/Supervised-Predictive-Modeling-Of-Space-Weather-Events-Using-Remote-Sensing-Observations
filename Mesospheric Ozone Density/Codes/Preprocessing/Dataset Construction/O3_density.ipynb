{
 "cells": [
  {
   "cell_type": "code",
   "execution_count": 1,
   "metadata": {},
   "outputs": [],
   "source": [
    "import pandas as pd\n",
    "import numpy as np\n",
    "import math"
   ]
  },
  {
   "cell_type": "code",
   "execution_count": 5,
   "metadata": {},
   "outputs": [],
   "source": [
    "dates=[]\n",
    "time=\"Oct 2003\"\n",
    "for i in range(1,10):\n",
    "    dates.append(f\"0{i}\")\n",
    "for i in range(10,31):\n",
    "    dates.append(f\"{i}\")\n",
    "    \n",
    "if time==\"Nov 2003\":\n",
    "    dates.remove(\"18\")\n",
    "elif time == \"Oct 2003\":\n",
    "    dates=[]\n",
    "    for i in range(26,32):\n",
    "        dates.append(f\"{i}\")"
   ]
  },
  {
   "cell_type": "code",
   "execution_count": 6,
   "metadata": {
    "scrolled": true
   },
   "outputs": [
    {
     "name": "stdout",
     "output_type": "stream",
     "text": [
      "file 26 done\n",
      "file 27 done\n",
      "file 28 done\n",
      "file 29 done\n",
      "file 30 done\n",
      "file 31 done\n"
     ]
    }
   ],
   "source": [
    "length=[]\n",
    "for date in dates:    \n",
    "    f=pd.read_csv(f\"C:\\\\Users\\\\Acer\\\\PycharmProjects\\\\BTech_Project\\\\data_csv\\\\{time}\\\\4 With AE, DST and SYMh\\\\{date}.csv\")\n",
    "    df=pd.DataFrame(f)\n",
    "    L1=[]\n",
    "    L2=[]\n",
    "    length.append(len(df[\"event\"]))\n",
    "    for i in range(len(df[\"event\"])):\n",
    "        if df[\"density\"][i]==\"--\" or df[\"O3_96\"][i]==\"--\":\n",
    "            L1.append(\"--\")\n",
    "            L2.append(\"--\")\n",
    "        else:\n",
    "            x=float(df[\"density\"][i])\n",
    "            y=float(df[\"O3_96\"][i])\n",
    "            o3_density=x*y\n",
    "            L1.append(o3_density)\n",
    "    df[\"O3_density\"]=L1\n",
    "    df.to_csv(f\"C:\\\\Users\\\\Acer\\\\PycharmProjects\\\\BTech_Project\\\\data_csv\\\\{time}\\\\5 O3 density calculation\\\\{date}.csv\")\n",
    "    print(f\"file {date} done\")"
   ]
  }
 ],
 "metadata": {
  "kernelspec": {
   "display_name": "Python 3",
   "language": "python",
   "name": "python3"
  },
  "language_info": {
   "codemirror_mode": {
    "name": "ipython",
    "version": 3
   },
   "file_extension": ".py",
   "mimetype": "text/x-python",
   "name": "python",
   "nbconvert_exporter": "python",
   "pygments_lexer": "ipython3",
   "version": "3.7.4"
  }
 },
 "nbformat": 4,
 "nbformat_minor": 2
}
