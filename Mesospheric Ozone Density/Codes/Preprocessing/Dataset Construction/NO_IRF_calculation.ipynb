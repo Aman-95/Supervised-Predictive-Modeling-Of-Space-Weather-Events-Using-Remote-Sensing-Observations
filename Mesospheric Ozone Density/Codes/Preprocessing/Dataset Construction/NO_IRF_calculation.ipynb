{
 "cells": [
  {
   "cell_type": "code",
   "execution_count": 1,
   "metadata": {},
   "outputs": [],
   "source": [
    "import numpy as np\n",
    "import pandas as pd"
   ]
  },
  {
   "cell_type": "code",
   "execution_count": 12,
   "metadata": {
    "scrolled": true
   },
   "outputs": [],
   "source": [
    "#dates=['01','02','03','04','05','06','07','08','09','10'] \n",
    "dates=[]\n",
    "for i in range(26,32):\n",
    "    dates.append(f\"{i}\")\n",
    "#dates.remove(\"18\")"
   ]
  },
  {
   "cell_type": "code",
   "execution_count": 13,
   "metadata": {},
   "outputs": [],
   "source": [
    "cols=[\"tpaltitude\",\"NO_ver\"]"
   ]
  },
  {
   "cell_type": "code",
   "execution_count": 14,
   "metadata": {},
   "outputs": [
    {
     "name": "stdout",
     "output_type": "stream",
     "text": [
      "file 26 done.\n",
      "file 27 done.\n",
      "file 28 done.\n",
      "file 29 done.\n",
      "file 30 done.\n",
      "file 31 done.\n"
     ]
    }
   ],
   "source": [
    "for date in dates:\n",
    "    f=pd.read_csv(f\"C:\\\\Users\\\\Acer\\\\PycharmProjects\\\\BTech_Project\\\\Aniket\\\\Oct 2003\\\\4 With AE, DST and SYMh\\\\{date}.csv\")\n",
    "    df=pd.DataFrame(f)\n",
    "    L=[]\n",
    "    i=0\n",
    "    while i<len(df[\"event\"]):\n",
    "        l=[]\n",
    "        j=i\n",
    "        l.append(j)\n",
    "        while j<len(df[\"event\"])-1 and float(df[\"tpaltitude\"][j]) > float(df[\"tpaltitude\"][j+1]):\n",
    "            j=j+1\n",
    "            l.append(j)\n",
    "        if len(l)>1:\n",
    "            L.append(l)\n",
    "        if i==j:\n",
    "            i=i+1\n",
    "        else:\n",
    "            i=j\n",
    "    \n",
    "    length=len(L)\n",
    "    NO_IRF=[]\n",
    "    for l in range(len(L)):\n",
    "        X=[]\n",
    "        Y=[]\n",
    "        for col in cols:\n",
    "            d=[]\n",
    "            for i in L[l]:\n",
    "                d.append(float(df[col][i]))\n",
    "            if col==\"NO_ver\":\n",
    "                Y=d\n",
    "            elif col==\"tpaltitude\":\n",
    "                X=d\n",
    "        row=[]\n",
    "        ans=-1.0*np.trapz(Y,x=X)\n",
    "        for i in range(len(L[l])):\n",
    "            NO_IRF.append(ans)\n",
    "    df[\"NO_IRF\"]=NO_IRF\n",
    "    #print(\"done step 2\")\n",
    "    df.to_csv(f\"C:\\\\Users\\\\Acer\\\\PycharmProjects\\\\BTech_Project\\\\Aniket\\\\Oct 2003\\\\5 With NO IRF\\\\{date}.csv\")\n",
    "    print(f\"file {date} done.\")"
   ]
  }
 ],
 "metadata": {
  "kernelspec": {
   "display_name": "Python 3",
   "language": "python",
   "name": "python3"
  },
  "language_info": {
   "codemirror_mode": {
    "name": "ipython",
    "version": 3
   },
   "file_extension": ".py",
   "mimetype": "text/x-python",
   "name": "python",
   "nbconvert_exporter": "python",
   "pygments_lexer": "ipython3",
   "version": "3.7.4"
  }
 },
 "nbformat": 4,
 "nbformat_minor": 2
}
