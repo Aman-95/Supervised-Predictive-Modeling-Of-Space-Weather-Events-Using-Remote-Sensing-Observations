{
 "cells": [
  {
   "cell_type": "code",
   "execution_count": 1,
   "metadata": {},
   "outputs": [
    {
     "name": "stdout",
     "output_type": "stream",
     "text": [
      "Requirement already satisfied: netCDF4 in c:\\users\\acer\\anaconda3\\lib\\site-packages (1.5.5.1)\n",
      "Requirement already satisfied: numpy>=1.9 in c:\\users\\acer\\anaconda3\\lib\\site-packages (from netCDF4) (1.19.5)\n",
      "Requirement already satisfied: cftime in c:\\users\\acer\\anaconda3\\lib\\site-packages (from netCDF4) (1.3.0)\n"
     ]
    }
   ],
   "source": [
    "!pip install netCDF4"
   ]
  },
  {
   "cell_type": "code",
   "execution_count": 2,
   "metadata": {},
   "outputs": [],
   "source": [
    "import pandas as pd\n",
    "from netCDF4 import Dataset\n",
    "import os"
   ]
  },
  {
   "cell_type": "code",
   "execution_count": 3,
   "metadata": {},
   "outputs": [
    {
     "data": {
      "text/plain": [
       "'C:\\\\Users\\\\Acer\\\\PycharmProjects\\\\BTech_Project\\\\Codes\\\\Sem 7'"
      ]
     },
     "execution_count": 3,
     "metadata": {},
     "output_type": "execute_result"
    }
   ],
   "source": [
    "os.getcwd()"
   ]
  },
  {
   "cell_type": "code",
   "execution_count": 4,
   "metadata": {},
   "outputs": [
    {
     "ename": "FileNotFoundError",
     "evalue": "[WinError 2] The system cannot find the file specified: '.\\\\data'",
     "output_type": "error",
     "traceback": [
      "\u001b[1;31m---------------------------------------------------------------------------\u001b[0m",
      "\u001b[1;31mFileNotFoundError\u001b[0m                         Traceback (most recent call last)",
      "\u001b[1;32m<ipython-input-4-36b966c1f515>\u001b[0m in \u001b[0;36m<module>\u001b[1;34m\u001b[0m\n\u001b[1;32m----> 1\u001b[1;33m \u001b[0mos\u001b[0m\u001b[1;33m.\u001b[0m\u001b[0mchdir\u001b[0m\u001b[1;33m(\u001b[0m\u001b[1;34m'.\\\\data'\u001b[0m\u001b[1;33m)\u001b[0m\u001b[1;33m\u001b[0m\u001b[1;33m\u001b[0m\u001b[0m\n\u001b[0m\u001b[0;32m      2\u001b[0m \u001b[0mos\u001b[0m\u001b[1;33m.\u001b[0m\u001b[0mgetcwd\u001b[0m\u001b[1;33m(\u001b[0m\u001b[1;33m)\u001b[0m\u001b[1;33m\u001b[0m\u001b[1;33m\u001b[0m\u001b[0m\n",
      "\u001b[1;31mFileNotFoundError\u001b[0m: [WinError 2] The system cannot find the file specified: '.\\\\data'"
     ]
    }
   ],
   "source": [
    "os.chdir('.\\\\data')\n",
    "os.getcwd()"
   ]
  },
  {
   "cell_type": "code",
   "execution_count": 4,
   "metadata": {
    "scrolled": true
   },
   "outputs": [
    {
     "data": {
      "text/plain": [
       "['1',\n",
       " '10',\n",
       " '11',\n",
       " '12',\n",
       " '13',\n",
       " '14',\n",
       " '15',\n",
       " '16',\n",
       " '17',\n",
       " '18',\n",
       " '19',\n",
       " '2',\n",
       " '20',\n",
       " '21',\n",
       " '22',\n",
       " '23',\n",
       " '24',\n",
       " '25',\n",
       " '26',\n",
       " '27',\n",
       " '28',\n",
       " '29',\n",
       " '3',\n",
       " '30',\n",
       " '4',\n",
       " '5',\n",
       " '6',\n",
       " '7',\n",
       " '8',\n",
       " '9']"
      ]
     },
     "execution_count": 4,
     "metadata": {},
     "output_type": "execute_result"
    }
   ],
   "source": [
    "os.listdir()"
   ]
  },
  {
   "cell_type": "code",
   "execution_count": 5,
   "metadata": {},
   "outputs": [
    {
     "name": "stdout",
     "output_type": "stream",
     "text": [
      "C:\\Users\\Acer\\PycharmProjects\\BTech_Project\\data\\1\n",
      "Converting files in C:\\Users\\Acer\\PycharmProjects\\BTech_Project\\data\\1\n",
      "C:\\Users\\Acer\\PycharmProjects\\BTech_Project\\data\\10\n",
      "Converting files in C:\\Users\\Acer\\PycharmProjects\\BTech_Project\\data\\10\n",
      "C:\\Users\\Acer\\PycharmProjects\\BTech_Project\\data\\11\n",
      "Converting files in C:\\Users\\Acer\\PycharmProjects\\BTech_Project\\data\\11\n",
      "C:\\Users\\Acer\\PycharmProjects\\BTech_Project\\data\\12\n",
      "Converting files in C:\\Users\\Acer\\PycharmProjects\\BTech_Project\\data\\12\n",
      "C:\\Users\\Acer\\PycharmProjects\\BTech_Project\\data\\13\n",
      "Converting files in C:\\Users\\Acer\\PycharmProjects\\BTech_Project\\data\\13\n",
      "C:\\Users\\Acer\\PycharmProjects\\BTech_Project\\data\\14\n",
      "Converting files in C:\\Users\\Acer\\PycharmProjects\\BTech_Project\\data\\14\n",
      "C:\\Users\\Acer\\PycharmProjects\\BTech_Project\\data\\15\n",
      "Converting files in C:\\Users\\Acer\\PycharmProjects\\BTech_Project\\data\\15\n",
      "C:\\Users\\Acer\\PycharmProjects\\BTech_Project\\data\\16\n",
      "Converting files in C:\\Users\\Acer\\PycharmProjects\\BTech_Project\\data\\16\n",
      "C:\\Users\\Acer\\PycharmProjects\\BTech_Project\\data\\17\n",
      "Converting files in C:\\Users\\Acer\\PycharmProjects\\BTech_Project\\data\\17\n",
      "C:\\Users\\Acer\\PycharmProjects\\BTech_Project\\data\\18\n",
      "Converting files in C:\\Users\\Acer\\PycharmProjects\\BTech_Project\\data\\18\n",
      "C:\\Users\\Acer\\PycharmProjects\\BTech_Project\\data\\19\n",
      "Converting files in C:\\Users\\Acer\\PycharmProjects\\BTech_Project\\data\\19\n",
      "C:\\Users\\Acer\\PycharmProjects\\BTech_Project\\data\\2\n",
      "Converting files in C:\\Users\\Acer\\PycharmProjects\\BTech_Project\\data\\2\n",
      "C:\\Users\\Acer\\PycharmProjects\\BTech_Project\\data\\20\n",
      "Converting files in C:\\Users\\Acer\\PycharmProjects\\BTech_Project\\data\\20\n",
      "C:\\Users\\Acer\\PycharmProjects\\BTech_Project\\data\\21\n",
      "Converting files in C:\\Users\\Acer\\PycharmProjects\\BTech_Project\\data\\21\n",
      "C:\\Users\\Acer\\PycharmProjects\\BTech_Project\\data\\22\n",
      "Converting files in C:\\Users\\Acer\\PycharmProjects\\BTech_Project\\data\\22\n",
      "C:\\Users\\Acer\\PycharmProjects\\BTech_Project\\data\\23\n",
      "Converting files in C:\\Users\\Acer\\PycharmProjects\\BTech_Project\\data\\23\n",
      "C:\\Users\\Acer\\PycharmProjects\\BTech_Project\\data\\24\n",
      "Converting files in C:\\Users\\Acer\\PycharmProjects\\BTech_Project\\data\\24\n",
      "C:\\Users\\Acer\\PycharmProjects\\BTech_Project\\data\\25\n",
      "Converting files in C:\\Users\\Acer\\PycharmProjects\\BTech_Project\\data\\25\n",
      "C:\\Users\\Acer\\PycharmProjects\\BTech_Project\\data\\26\n",
      "Converting files in C:\\Users\\Acer\\PycharmProjects\\BTech_Project\\data\\26\n",
      "C:\\Users\\Acer\\PycharmProjects\\BTech_Project\\data\\27\n",
      "Converting files in C:\\Users\\Acer\\PycharmProjects\\BTech_Project\\data\\27\n",
      "C:\\Users\\Acer\\PycharmProjects\\BTech_Project\\data\\28\n",
      "Converting files in C:\\Users\\Acer\\PycharmProjects\\BTech_Project\\data\\28\n",
      "C:\\Users\\Acer\\PycharmProjects\\BTech_Project\\data\\29\n",
      "Converting files in C:\\Users\\Acer\\PycharmProjects\\BTech_Project\\data\\29\n",
      "C:\\Users\\Acer\\PycharmProjects\\BTech_Project\\data\\3\n",
      "Converting files in C:\\Users\\Acer\\PycharmProjects\\BTech_Project\\data\\3\n",
      "C:\\Users\\Acer\\PycharmProjects\\BTech_Project\\data\\30\n",
      "Converting files in C:\\Users\\Acer\\PycharmProjects\\BTech_Project\\data\\30\n",
      "C:\\Users\\Acer\\PycharmProjects\\BTech_Project\\data\\4\n",
      "Converting files in C:\\Users\\Acer\\PycharmProjects\\BTech_Project\\data\\4\n",
      "C:\\Users\\Acer\\PycharmProjects\\BTech_Project\\data\\5\n",
      "Converting files in C:\\Users\\Acer\\PycharmProjects\\BTech_Project\\data\\5\n",
      "C:\\Users\\Acer\\PycharmProjects\\BTech_Project\\data\\6\n",
      "Converting files in C:\\Users\\Acer\\PycharmProjects\\BTech_Project\\data\\6\n",
      "C:\\Users\\Acer\\PycharmProjects\\BTech_Project\\data\\7\n",
      "Converting files in C:\\Users\\Acer\\PycharmProjects\\BTech_Project\\data\\7\n",
      "C:\\Users\\Acer\\PycharmProjects\\BTech_Project\\data\\8\n",
      "Converting files in C:\\Users\\Acer\\PycharmProjects\\BTech_Project\\data\\8\n",
      "C:\\Users\\Acer\\PycharmProjects\\BTech_Project\\data\\9\n",
      "Converting files in C:\\Users\\Acer\\PycharmProjects\\BTech_Project\\data\\9\n"
     ]
    }
   ],
   "source": [
    "for i in os.listdir():\n",
    "    \n",
    "    #change the directory\n",
    "    os.chdir(os.getcwd() + '\\\\' + i)\n",
    "    print(os.getcwd())\n",
    "   \n",
    "    \n",
    "    print(\"Converting files in \" + os.getcwd())\n",
    "    col_names = ['event', 'solAp', 'solKp', 'solf10p7Daily', 'time','tpaltitude', 'tplatitude', 'tplongitude', 'tpSolarZen','ktemp','density','O3_96','O3_127']\n",
    "\n",
    "    #make a dataframe\n",
    "    temp_data = pd.DataFrame(columns = col_names)\n",
    "\n",
    "    #cd into the directory which contains the files for the day\n",
    "    for j in os.listdir():\n",
    "        #load the file\n",
    "        fh = Dataset(j, mode='r')\n",
    "        #store the values\n",
    "        for k in range(len(fh.variables['event'])):\n",
    "            temp_data.loc[len(temp_data.index)] = [fh.variables['event'][k], fh.variables['solAP'][k], fh.variables['solKP'][k], fh.variables['solf10p7Daily'][k], fh.variables['time'][k],fh.variables['tpaltitude'][k], fh.variables['tplatitude'][k], fh.variables['tplongitude'][k], fh.variables['tpSolarZen'][k], fh.variables['ktemp'][k],fh.variables['density'][k],fh.variables['O3_96'][k],fh.variables['O3_127'][k]]\n",
    "        \n",
    "        #close [k]the file\n",
    "        fh.close()\n",
    "    temp_data.to_csv(\"Data.csv\", index=False)\n",
    "    \n",
    "    #go back to the home directory\n",
    "    os.chdir('.\\..')\n",
    "\n"
   ]
  },
  {
   "cell_type": "code",
   "execution_count": null,
   "metadata": {},
   "outputs": [],
   "source": []
  }
 ],
 "metadata": {
  "kernelspec": {
   "display_name": "Python 3",
   "language": "python",
   "name": "python3"
  },
  "language_info": {
   "codemirror_mode": {
    "name": "ipython",
    "version": 3
   },
   "file_extension": ".py",
   "mimetype": "text/x-python",
   "name": "python",
   "nbconvert_exporter": "python",
   "pygments_lexer": "ipython3",
   "version": "3.7.4"
  }
 },
 "nbformat": 4,
 "nbformat_minor": 4
}
