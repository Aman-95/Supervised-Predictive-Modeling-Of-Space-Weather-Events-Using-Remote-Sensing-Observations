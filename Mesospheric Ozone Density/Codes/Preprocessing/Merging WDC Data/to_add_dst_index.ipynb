{
 "cells": [
  {
   "cell_type": "code",
   "execution_count": 1,
   "metadata": {},
   "outputs": [],
   "source": [
    "import pandas as pd\n",
    "import numpy as np"
   ]
  },
  {
   "cell_type": "code",
   "execution_count": 4,
   "metadata": {},
   "outputs": [],
   "source": [
    "time=\"Oct 2003\"\n",
    "\n",
    "dates=[]\n",
    "for i in range(1,10):\n",
    "    dates.append(f\"0{i}\")\n",
    "for i in range(10,31):\n",
    "    dates.append(f\"{i}\")\n",
    "        \n",
    "\n",
    "if time==\"Nov 2003\":\n",
    "    dates.remove(\"18\")\n",
    "elif time == \"Oct 2003\":\n",
    "    dates=[]\n",
    "    for i in range(26,32):\n",
    "        dates.append(f\"{i}\")"
   ]
  },
  {
   "cell_type": "code",
   "execution_count": 5,
   "metadata": {
    "scrolled": true
   },
   "outputs": [
    {
     "name": "stdout",
     "output_type": "stream",
     "text": [
      "file 26 done.\n",
      "file 27 done.\n",
      "file 28 done.\n",
      "file 29 done.\n",
      "file 30 done.\n",
      "file 31 done.\n"
     ]
    }
   ],
   "source": [
    "f2=pd.read_csv(f\"C:\\\\Users\\\\Acer\\\\PycharmProjects\\\\BTech_Project\\\\WDC data\\\\{time}\\\\DST index.csv\")\n",
    "df2=pd.DataFrame(f2)\n",
    "for date in dates:\n",
    "    f1=pd.read_csv(f\"C:\\\\Users\\\\Acer\\\\PycharmProjects\\\\BTech_Project\\\\data_csv\\\\{time}\\\\2 With AE Index\\\\{date}.csv\")\n",
    "    df1=pd.DataFrame(f1)    \n",
    "    j=0\n",
    "    L=[]\n",
    "    for i in range(len(df1[\"time\"])):\n",
    "        if df1[\"time\"][i]==\"--\":\n",
    "            L.append(\"--\")\n",
    "        else:\n",
    "            x=float(df1[\"time\"][i])\n",
    "            x=int(float(x)/3600000)\n",
    "            if(x<=23):\n",
    "                y=df2[f\"{x}\"][int(date)-1]\n",
    "            else:\n",
    "                y=df2[f\"{x-24}\"][int(date)]\n",
    "            j=j+1\n",
    "            L.append(y)\n",
    "    df1[\"dst_index\"]=L\n",
    "    df1.to_csv(f\"C:\\\\Users\\\\Acer\\\\PycharmProjects\\\\BTech_Project\\\\data_csv\\\\{time}\\\\3 With AE and DST\\\\{date}.csv\")\n",
    "    print(f\"file {date} done.\") "
   ]
  }
 ],
 "metadata": {
  "kernelspec": {
   "display_name": "Python 3",
   "language": "python",
   "name": "python3"
  },
  "language_info": {
   "codemirror_mode": {
    "name": "ipython",
    "version": 3
   },
   "file_extension": ".py",
   "mimetype": "text/x-python",
   "name": "python",
   "nbconvert_exporter": "python",
   "pygments_lexer": "ipython3",
   "version": "3.7.4"
  }
 },
 "nbformat": 4,
 "nbformat_minor": 2
}
