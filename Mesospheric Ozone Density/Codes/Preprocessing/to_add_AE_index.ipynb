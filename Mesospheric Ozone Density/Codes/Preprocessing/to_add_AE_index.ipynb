{
 "cells": [
  {
   "cell_type": "code",
   "execution_count": 1,
   "metadata": {},
   "outputs": [],
   "source": [
    "import pandas as pd\n",
    "import numpy as np"
   ]
  },
  {
   "cell_type": "code",
   "execution_count": 7,
   "metadata": {},
   "outputs": [],
   "source": [
    "time=\"Oct 2003\"\n",
    "\n",
    "dates=[]\n",
    "for i in range(1,10):\n",
    "    dates.append(f\"0{i}\")\n",
    "for i in range(10,31):\n",
    "    dates.append(f\"{i}\")\n",
    "        \n",
    "\n",
    "if time==\"Nov 2003\":\n",
    "    dates.remove(\"18\")\n",
    "elif time == \"Oct 2003\":\n",
    "    dates=[]\n",
    "    for i in range(26,32):\n",
    "        dates.append(f\"{i}\")"
   ]
  },
  {
   "cell_type": "code",
   "execution_count": 8,
   "metadata": {
    "scrolled": true
   },
   "outputs": [
    {
     "name": "stdout",
     "output_type": "stream",
     "text": [
      "file 26 done.\n",
      "file 27 done.\n",
      "file 28 done.\n",
      "file 29 done.\n",
      "file 30 done.\n",
      "file 31 done.\n"
     ]
    }
   ],
   "source": [
    "f2=pd.read_csv(f\"C:\\\\Users\\\\Acer\\\\PycharmProjects\\\\BTech_Project\\\\WDC data\\\\{time}\\\\AE index.csv\")\n",
    "df2=pd.DataFrame(f2)\n",
    "for date in dates:\n",
    "    f1=pd.read_csv(f\"C:\\\\Users\\\\Acer\\\\PycharmProjects\\\\BTech_Project\\\\data_csv\\\\{time}\\\\1 Opened dataset\\\\{date}.csv\")\n",
    "    df1=pd.DataFrame(f1)\n",
    "    L=[]\n",
    "    for i in range(len(df1[\"time\"])):\n",
    "        #print(i)\n",
    "        if df1[\"time\"][i]=='--':\n",
    "            L.append(\"--\")\n",
    "        else:\n",
    "            h=int(float(df1[\"time\"][i])/3600000)\n",
    "            m=int(float(df1[\"time\"][i])/60000)\n",
    "            m=m%60\n",
    "            d=int(h/23)\n",
    "            h=h%24\n",
    "            ae_indx=df2[f\"{m}\"][h+((int(date)-1+d)*24)]\n",
    "            L.append(ae_indx)\n",
    "    df1[\"ae_index\"]=L\n",
    "    df1.to_csv(f\"C:\\\\Users\\\\Acer\\\\PycharmProjects\\\\BTech_Project\\\\data_csv\\\\{time}\\\\2 With AE Index\\\\{date}.csv\")\n",
    "    print(f\"file {date} done.\") "
   ]
  }
 ],
 "metadata": {
  "kernelspec": {
   "display_name": "Python 3",
   "language": "python",
   "name": "python3"
  },
  "language_info": {
   "codemirror_mode": {
    "name": "ipython",
    "version": 3
   },
   "file_extension": ".py",
   "mimetype": "text/x-python",
   "name": "python",
   "nbconvert_exporter": "python",
   "pygments_lexer": "ipython3",
   "version": "3.7.4"
  }
 },
 "nbformat": 4,
 "nbformat_minor": 2
}
