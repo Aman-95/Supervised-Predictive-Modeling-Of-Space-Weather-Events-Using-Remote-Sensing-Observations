{
 "cells": [
  {
   "cell_type": "code",
   "execution_count": 1,
   "metadata": {},
   "outputs": [],
   "source": [
    "\"Removing rows which have missig values in any column (except O3_127 column values) \"  "
   ]
  },
  {
   "cell_type": "code",
   "execution_count": 18,
   "metadata": {},
   "outputs": [],
   "source": [
    "import pandas as pd"
   ]
  },
  {
   "cell_type": "code",
   "execution_count": 26,
   "metadata": {},
   "outputs": [],
   "source": [
    "dates=[]\n",
    "for i in range(1,10,1):\n",
    "    dates.append(f\"0{i}\")\n",
    "for i in range(10,31,1):\n",
    "    dates.append(f\"{i}\")"
   ]
  },
  {
   "cell_type": "code",
   "execution_count": 19,
   "metadata": {},
   "outputs": [],
   "source": [
    "col=[\"event\",\"solAp\",\"solKp\",\"solf10p7Daily\",\"time\",\"tpaltitude\",\"tplatitude\",\"tplongitude\",\"tpSolarZen\",\"ktemp\",\"density\",\"O3_96\",\"ae_index\",\"dst_index\",\"sym_h\"]"
   ]
  },
  {
   "cell_type": "code",
   "execution_count": 27,
   "metadata": {},
   "outputs": [
    {
     "name": "stdout",
     "output_type": "stream",
     "text": [
      "For file 01 ---------- 35350 ---------- 33.86%\n",
      "For file 02 ---------- 35251 ---------- 33.824%\n",
      "For file 03 ---------- 32960 ---------- 33.847%\n",
      "For file 04 ---------- 35244 ---------- 33.817%\n",
      "For file 05 ---------- 35056 ---------- 33.847%\n",
      "For file 06 ---------- 35170 ---------- 33.839%\n",
      "For file 07 ---------- 35258 ---------- 33.83%\n",
      "For file 08 ---------- 35080 ---------- 33.835%\n",
      "For file 09 ---------- 32764 ---------- 33.821%\n",
      "For file 10 ---------- 35146 ---------- 33.828%\n",
      "For file 11 ---------- 35168 ---------- 33.826%\n",
      "For file 12 ---------- 35232 ---------- 33.817%\n",
      "For file 13 ---------- 35226 ---------- 33.823%\n",
      "For file 14 ---------- 35096 ---------- 33.815%\n",
      "For file 15 ---------- 32796 ---------- 33.828%\n",
      "For file 16 ---------- 34976 ---------- 33.817%\n",
      "For file 17 ---------- 35154 ---------- 33.812%\n",
      "For file 18 ---------- 35222 ---------- 33.807%\n",
      "For file 19 ---------- 35252 ---------- 33.825%\n",
      "For file 20 ---------- 33171 ---------- 34.101%\n",
      "For file 21 ---------- 33354 ---------- 34.417%\n",
      "For file 22 ---------- 35688 ---------- 34.314%\n",
      "For file 23 ---------- 35762 ---------- 34.302%\n",
      "For file 24 ---------- 35690 ---------- 34.257%\n",
      "For file 25 ---------- 35582 ---------- 34.26%\n",
      "For file 26 ---------- 35436 ---------- 34.273%\n",
      "For file 27 ---------- 33194 ---------- 34.252%\n",
      "For file 28 ---------- 35638 ---------- 34.219%\n",
      "For file 29 ---------- 35408 ---------- 34.187%\n",
      "For file 30 ---------- 35482 ---------- 34.199%\n",
      "For all files ---------- 1045806 ---------- 33.982%\n"
     ]
    }
   ],
   "source": [
    "total_rows=0\n",
    "total_length=0\n",
    "for date in dates:\n",
    "    f=pd.read_csv(f\"C:\\\\Users\\\\Acer\\\\PycharmProjects\\\\BTech_Project\\\\data_csv\\\\dataset with ae-index dst-index and sym-h component\\\\{date}_with_dst_ae_symh.csv\")\n",
    "    df=pd.DataFrame(f)\n",
    "    L=[]\n",
    "    rows=0\n",
    "    for i in range(len(df[\"event\"])):\n",
    "        for j in range(len(col)):\n",
    "            if df[col[j]][i]==\"--\":\n",
    "                L.append(i)\n",
    "                rows=rows+1\n",
    "                break\n",
    "    length=len(df[\"event\"])\n",
    "    df.drop(L,axis=0,inplace=True)\n",
    "    total_rows=total_rows+rows\n",
    "    total_length=total_length+length\n",
    "    df.to_csv(f\"C:\\\\Users\\\\Acer\\\\PycharmProjects\\\\BTech_Project\\\\data_csv\\\\after removing missing data\\\\{date}_cleaned.csv\")\n",
    "    print(f\"For file {date} ---------- {rows} ---------- {round(100*(rows/length),3)}%\")\n",
    "print(f\"For all files ---------- {total_rows} ---------- {round(100*(total_rows/total_length),3)}%\")"
   ]
  }
 ],
 "metadata": {
  "kernelspec": {
   "display_name": "Python 3",
   "language": "python",
   "name": "python3"
  },
  "language_info": {
   "codemirror_mode": {
    "name": "ipython",
    "version": 3
   },
   "file_extension": ".py",
   "mimetype": "text/x-python",
   "name": "python",
   "nbconvert_exporter": "python",
   "pygments_lexer": "ipython3",
   "version": "3.7.4"
  }
 },
 "nbformat": 4,
 "nbformat_minor": 2
}
